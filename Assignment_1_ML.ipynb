{
  "nbformat": 4,
  "nbformat_minor": 0,
  "metadata": {
    "colab": {
      "provenance": []
    },
    "kernelspec": {
      "name": "python3",
      "display_name": "Python 3"
    },
    "language_info": {
      "name": "python"
    }
  },
  "cells": [
    {
      "cell_type": "code",
      "execution_count": null,
      "metadata": {
        "colab": {
          "base_uri": "https://localhost:8080/"
        },
        "id": "ZSyRiepERO4n",
        "outputId": "775fe7ae-7dc9-47e3-8f7d-876c4ecc19fd"
      },
      "outputs": [
        {
          "output_type": "stream",
          "name": "stdout",
          "text": [
            "Sorted list: [19, 19, 20, 22, 24, 24, 24, 25, 25, 26]\n",
            "Minimum element is 19\n",
            "Maximum element is 26\n",
            "Latest list: [19, 19, 20, 22, 24, 24, 24, 25, 25, 26, 19, 26]\n",
            "Median is: 24.0\n",
            "Avereage element is: 22.75\n",
            "The Range of list difference :  7\n"
          ]
        }
      ],
      "source": [
        "# A list named ages is declared\n",
        "ages = [19, 22, 19, 24, 20, 25, 26, 24, 25, 24]\n",
        "\n",
        "# Sort() function is used to sort the ages\n",
        "\n",
        "ages.sort()\n",
        "print(\"Sorted list:\",ages)\n",
        "\n",
        "#Finding the minimum and maximum element of the list \n",
        "Min = min(ages)\n",
        "Max = max(ages)\n",
        "\n",
        "#Printing the mimimum and maximum element of the list.\n",
        "print(\"Minimum element is\", Min)\n",
        "print(\"Maximum element is\", Max)\n",
        "\n",
        "#Appending the minimum and maximum values to the sorted list.\n",
        "ages.append(Min)\n",
        "ages.append(Max)\n",
        "\n",
        "#Printing the latest list after appending the mimimum and maximum values.\n",
        "print(\"Latest list:\", ages)\n",
        "\n",
        "#Importing the Statistics module for finding the median of the list.\n",
        "import statistics\n",
        "\n",
        "#using the statistics.median() method\n",
        "Median = statistics.median(ages)\n",
        "\n",
        "#Printing the Median of the list\n",
        "print(\"Median is:\", Median)\n",
        "\n",
        "#Finding the average of the list \n",
        "Average = sum(ages)/len(ages)\n",
        "\n",
        "#Printing the average element\n",
        "print (\"Avereage element is:\", Average)\n",
        "\n",
        "# The Range of ages is\n",
        "print(\"The Range of list difference : \", ages[len(ages)-1]-ages[0])\n"
      ]
    },
    {
      "cell_type": "code",
      "source": [
        "#A dictionary named Dog is Declared.\n",
        "\n",
        "dog = { \"name\" : \"Tommy\"  , \"color\" : \"White\", \"breed\" : \"pomeranian\" , \"legs\" : 4, \"age\" : 10}\n",
        "#Printing the Dictionary\n",
        "\n",
        "print(\"Dictionary Dog : \",dog)\n",
        "\n",
        "\"\"\"\"Declaring the Student dictionary including the fields such as first name, last name, age,marital status, \n",
        "skills, country and address.\"\"\"\n",
        "\n",
        "std = {\"firstname\" : \"Chandrakanth \",\"lastname\" : \"B \", \"gender\" : \"Male\",\"age\" : 25,\"marital_status\" : \"Single\",\n",
        "    \"skills\" : [ \"Python\", \"Java\"],\"country\" : \"USA\",\"city\" : \"kansas city\", \"address\" : \"6618 W 140th st\"}\n",
        "#Printing the Student Dictionary\n",
        "\n",
        "print(\"Student:\", std)\n",
        "\n",
        "#Finding and printing the length of student dictonary\n",
        "\n",
        "print(\"Length of the student dictonary is: \",len(std))\n",
        "\n",
        "#Printing the values of skills and the data type.\n",
        "\n",
        "print(\"Skills : \",std[\"skills\"],\"and Data type of skills : \",type(std[\"skills\"]))\n",
        "\n",
        "# Modifying the Skills list by appending the skill #JavaScript to the list.\n",
        "\n",
        "std[\"skills\"].append(\"JavaScript\")\n",
        "\n",
        "print(\"After Adding JavaScript Skill : \",std[\"skills\"])\n",
        "\n",
        "#Displaying student keys\n",
        "\n",
        "print(\"Student keys are : \",std.keys())\n",
        "\n",
        "#Displaying Values of student\n",
        "\n",
        "print(\"Student values are : \",std.values())"
      ],
      "metadata": {
        "colab": {
          "base_uri": "https://localhost:8080/"
        },
        "id": "KuERN9DacjAm",
        "outputId": "318fed69-09e8-47f6-943b-4828cc86a385"
      },
      "execution_count": null,
      "outputs": [
        {
          "output_type": "stream",
          "name": "stdout",
          "text": [
            "Dictionary Dog :  {'name': 'Tommy', 'color': 'White', 'breed': 'pomeranian', 'legs': 4, 'age': 10}\n",
            "Student: {'firstname': 'Chandrakanth ', 'lastname': 'B ', 'gender': 'Male', 'age': 25, 'marital_status': 'Single', 'skills': ['Python', 'Java'], 'country': 'USA', 'city': 'kansas city', 'address': '6618 W 140th st'}\n",
            "Length of the student dictonary is:  9\n",
            "Skills :  ['Python', 'Java'] and Data type of skills :  <class 'list'>\n",
            "After Adding JavaScript Skill :  ['Python', 'Java', 'JavaScript']\n",
            "Student keys are :  dict_keys(['firstname', 'lastname', 'gender', 'age', 'marital_status', 'skills', 'country', 'city', 'address'])\n",
            "Student values are :  dict_values(['Chandrakanth ', 'B ', 'Male', 25, 'Single', ['Python', 'Java', 'JavaScript'], 'USA', 'kansas city', '6618 W 140th st'])\n"
          ]
        }
      ]
    },
    {
      "cell_type": "code",
      "source": [
        "# A tuple named brothers is declared\n",
        "brothers = (\"Chintu\", \"Chanti\", \"Santhosh\")\n",
        "print(\"Brothers: \",brothers)\n",
        "\n",
        "#A tuple named sister is declared\n",
        "\n",
        "sister = (\"Priyanka\", \"Apoorva\")\n",
        "\n",
        "print(\"Sisters : \",sister)\n",
        "\n",
        "#joining the brothers tuple and sisters tuple to the tuple named siblings\n",
        "\n",
        "siblings = brothers + sister\n",
        "\n",
        "#Printing the tuple - Siblings\n",
        "print (\"Siblings: \", siblings)\n",
        "\n",
        "#Total number of siblings\n",
        "print(\"Total Siblings : \", len(siblings))\n",
        "\n",
        "#Modifying the tuple value by adding mother and father name\n",
        "\n",
        "Home = list(siblings)\n",
        "Father = \"God\"\n",
        "Mother = \"Goddess\"\n",
        "Home.append(Father)\n",
        "Home.append(Mother)\n",
        "\n",
        "# Assigning to family members\n",
        "\n",
        "family_members = tuple(Home)\n",
        "\n",
        "print(\"Family Members : \",family_members)"
      ],
      "metadata": {
        "colab": {
          "base_uri": "https://localhost:8080/"
        },
        "id": "r9XH-6MUeegl",
        "outputId": "e8b5b92a-cf41-4533-c0a5-cf9256367c9d"
      },
      "execution_count": null,
      "outputs": [
        {
          "output_type": "stream",
          "name": "stdout",
          "text": [
            "Brothers:  ('Chintu', 'Chanti', 'Santhosh')\n",
            "Sisters :  ('Priyanka', 'Apoorva')\n",
            "Siblings:  ('Chintu', 'Chanti', 'Santhosh', 'Priyanka', 'Apoorva')\n",
            "Total Siblings :  5\n",
            "Family Members :  ('Chintu', 'Chanti', 'Santhosh', 'Priyanka', 'Apoorva', 'God', 'Goddess')\n"
          ]
        }
      ]
    },
    {
      "cell_type": "code",
      "source": [
        "it_companies = {'Facebook', 'Google', 'Microsoft', 'Apple', 'IBM', 'Oracle', 'Amazon'}\n",
        "\n",
        "print(\"IT Companies : \", it_companies)\n",
        "#Printing the length of it_companies\n",
        "\n",
        "print(\"Length of it_compamies is: \",len(it_companies))\n",
        "\n",
        "#Adding the item Twitter to it_companies\n",
        "\n",
        "it_companies.add(\"Twiter\")\n",
        "print(\"it_companies after adding Twitter: \",it_companies)\n",
        "\n",
        "#inserting multiple it companies to the set it_companies.\n",
        "\n",
        "it_companies_1 = { 'TCS', 'Virtusa' }\n",
        "\n",
        "it_companies.update(it_companies_1)\n",
        "\n",
        "print(\"Adding Adding Items to it_compaies : \",it_companies)\n",
        "\n",
        "#Removing item Virtusa from the set\n",
        "\n",
        "it_companies.remove(\"Virtusa\")\n",
        "\n",
        "print(\"After Removing Virtusa from Set : \",it_companies)\n",
        "\n",
        "#Difference betweeb remove() and discard\n",
        "\n",
        "\"\"\" \n",
        "The Remove() and Discard() method used to delete the item in the set. The \n",
        "main differnece between remove() and discard() is remove() will raise an \n",
        "issue if the element is not availabe in the set but discard element does not \n",
        "raise an error if so. \n",
        "\"\"\"\n",
        "#Example : \n",
        "#Doesn't show any error\n",
        "it_companies.discard(\"Virtusa\")\n",
        "\n",
        "print(\"After using discard function : \", it_companies)\n",
        "\n",
        "#it_companies.remove(\"Virtusa\")\n",
        "\n",
        "# Shows Error if element is not available\n",
        "#print(\"After using remove function : \", it_companies)\n",
        "\n",
        "#Declring the sets A and B\n",
        "\n",
        "A = {19, 22, 24, 20, 25, 26}\n",
        "\n",
        "B = {19, 22, 20, 25, 26, 24, 28, 27}\n",
        "\n",
        "#Joining the sets A and B\n",
        "C=A.union(B)\n",
        "\n",
        "print(\"Joining Set A and Set B : \",C)\n",
        "\n",
        "#Finding the intersection of sets A and B\n",
        "\n",
        "I = A.intersection(B)\n",
        "\n",
        "print(\"Intersection of set A and set B : \", I)\n",
        " \n",
        "#Checking Weather A is Subset of B or not\n",
        "\n",
        "S = A.issubset(B)\n",
        "print(\"A is subset of B : \",S)\n",
        "\n",
        "#Checking weather A is disjoint set of B or not\n",
        "\n",
        "D = A.isdisjoint(B)\n",
        "print(\"Weather A is disjoint set of B : \",D)\n",
        "\n",
        "#Joining A with B and B with A\n",
        "\n",
        "print(\"Joining Set A with Set B : \",A.union(B))\n",
        "\n",
        "print(\"Joining Set B with Set A : \",B.union(A))\n",
        "\n",
        "#Symmetric difference between A and B\n",
        "\n",
        "Symmetric = A.symmetric_difference(B)\n",
        "\n",
        "print(\"Symmetric Difference Between Set A and Set B : \",Symmetric)\n",
        "\n",
        "#Deleting the entire Sets (Set A and Set B)\n",
        "\n",
        "A.clear()\n",
        "B.clear()\n",
        "\n",
        "print(A)\n",
        "print(B)\n",
        "\n",
        "#Converting ages into complete set\n",
        "\n",
        "age = [22, 19, 24, 25, 26, 24, 25, 24]\n",
        "\n",
        "print(\"Age :\",age)\n",
        "\n",
        "sage = set(age)\n",
        "\n",
        "print(\"After converting age into set : \",sage, type(sage))\n",
        "\n",
        "print(\"length of set age : \",len(sage))\n",
        "print(\"length of list age : \",len(age))\n"
      ],
      "metadata": {
        "colab": {
          "base_uri": "https://localhost:8080/"
        },
        "id": "YfYF-Lvvf37N",
        "outputId": "e72f668a-f492-430c-bd61-6681be3e090c"
      },
      "execution_count": null,
      "outputs": [
        {
          "output_type": "stream",
          "name": "stdout",
          "text": [
            "IT Companies :  {'Microsoft', 'Oracle', 'IBM', 'Facebook', 'Amazon', 'Google', 'Apple'}\n",
            "Length of it_compamies is:  7\n",
            "it_companies after adding Twitter:  {'Microsoft', 'Oracle', 'IBM', 'Facebook', 'Twiter', 'Amazon', 'Google', 'Apple'}\n",
            "Adding Adding Items to it_compaies :  {'Microsoft', 'Oracle', 'Virtusa', 'IBM', 'TCS', 'Facebook', 'Twiter', 'Amazon', 'Google', 'Apple'}\n",
            "After Removing Virtusa from Set :  {'Microsoft', 'Oracle', 'IBM', 'TCS', 'Facebook', 'Twiter', 'Amazon', 'Google', 'Apple'}\n",
            "After using discard function :  {'Microsoft', 'Oracle', 'IBM', 'TCS', 'Facebook', 'Twiter', 'Amazon', 'Google', 'Apple'}\n",
            "Joining Set A and Set B :  {19, 20, 22, 24, 25, 26, 27, 28}\n",
            "Intersection of set A and set B :  {19, 20, 22, 24, 25, 26}\n",
            "A is subset of B :  True\n",
            "Weather A is disjoint set of B :  False\n",
            "Joining Set A with Set B :  {19, 20, 22, 24, 25, 26, 27, 28}\n",
            "Joining Set B with Set A :  {19, 20, 22, 24, 25, 26, 27, 28}\n",
            "Symmetric Difference Between Set A and Set B :  {27, 28}\n",
            "set()\n",
            "set()\n",
            "Age : [22, 19, 24, 25, 26, 24, 25, 24]\n",
            "After converting age into set :  {19, 22, 24, 25, 26} <class 'set'>\n",
            "length of set age :  5\n",
            "length of list age :  8\n"
          ]
        }
      ]
    },
    {
      "cell_type": "code",
      "source": [
        "#The radius of a circle is 30 meters\n",
        "r=30\n",
        "\n",
        "#Determining the area of the circle\n",
        "\n",
        "area_of_circle_ = 3.14 * (r**2)\n",
        "\n",
        "print(\"The area of circle is: \", area_of_circle_ )\n",
        "\n",
        "#Finding the Circumference of the circle\n",
        "\n",
        "circumference = 2 * 3.14 * r\n",
        "\n",
        "print(\"Circumference of circle : \", circumference)\n",
        "\n",
        "print()\n",
        "\n",
        "input_radius = int(input(\"Enter the radius \"))\n",
        "\n",
        "area = 3.14 * input_radius\n",
        "\n",
        "print(\"area of circle with the radius determined  by the user:\", area)\n"
      ],
      "metadata": {
        "colab": {
          "base_uri": "https://localhost:8080/"
        },
        "id": "Cgm_8rfTghJj",
        "outputId": "fa4374e9-1347-4d36-8800-696b2655dfcb"
      },
      "execution_count": null,
      "outputs": [
        {
          "output_type": "stream",
          "name": "stdout",
          "text": [
            "The area of circle is:  2826.0\n",
            "Circumference of circle :  188.4\n",
            "\n",
            "Enter the radius 8\n",
            "area of circle with the radius determined  by the user: 25.12\n"
          ]
        }
      ]
    },
    {
      "cell_type": "code",
      "source": [
        "#Declaring the string\n",
        "\n",
        "str = \"I am a teacher and I love to teach Human Consciousness\"\n",
        "\n",
        "print(\"The Given string is : \", str)\n",
        "\n",
        "# Stored the string str in a set using the split() function.\n",
        "\n",
        "strset = set(str.split(\" \"))\n",
        "\n",
        "#finding the number of unique words.\n",
        "\n",
        "print(\"Number of unique words:\", len(strset))\n",
        " \n",
        "#Printing the unique words of a string by printing the set.\n",
        "\n",
        "print(\"Unique words : \", strset)"
      ],
      "metadata": {
        "colab": {
          "base_uri": "https://localhost:8080/"
        },
        "id": "CtZtijlthOuP",
        "outputId": "b70a85af-dba9-407f-ccd6-e0e6d39a4600"
      },
      "execution_count": null,
      "outputs": [
        {
          "output_type": "stream",
          "name": "stdout",
          "text": [
            "The Given string is :  I am a teacher and I love to teach Human Consciousness\n",
            "Number of unique words: 10\n",
            "Unique words :  {'I', 'love', 'teach', 'Human', 'to', 'Consciousness', 'and', 'teacher', 'a', 'am'}\n"
          ]
        }
      ]
    },
    {
      "cell_type": "code",
      "source": [
        "#Printing According to the pattern\n",
        "print(\"Name \\t\\t Age \\t Country \\t City\")\n",
        "print(\"Asabeneh \\t 250 \\t Finland \\t Helsinki\")"
      ],
      "metadata": {
        "colab": {
          "base_uri": "https://localhost:8080/"
        },
        "id": "K0r6qGTgiprw",
        "outputId": "e74fd685-7af9-4dc1-c2c0-c56c4868671e"
      },
      "execution_count": null,
      "outputs": [
        {
          "output_type": "stream",
          "name": "stdout",
          "text": [
            "Name \t\t Age \t Country \t City\n",
            "Asabeneh \t 250 \t Finland \t Helsinki\n"
          ]
        }
      ]
    },
    {
      "cell_type": "code",
      "source": [
        "#Using String formatting method\n",
        "\n",
        "radius = 5\n",
        "areaofcircle = 3.14 * radius ** 2\n",
        "print(\"The Area of Circle with radius {} is {} meters square.\".format(radius,areaofcircle))"
      ],
      "metadata": {
        "colab": {
          "base_uri": "https://localhost:8080/"
        },
        "id": "RW5mpAL7i2Bg",
        "outputId": "9c229f79-77ea-4fd5-f1fe-6a669d3e23f1"
      },
      "execution_count": null,
      "outputs": [
        {
          "output_type": "stream",
          "name": "stdout",
          "text": [
            "The Area of Circle with radius 5 is 78.5 meters square.\n"
          ]
        }
      ]
    },
    {
      "cell_type": "code",
      "source": [
        "# An empty list named l which reads the weights of N students is declared\n",
        "\n",
        "l = []\n",
        "\n",
        "#Taking input from User\n",
        "  \n",
        "n = int(input(\"Enter number of weights : \"))\n",
        "  \n",
        "# Appending the values to list l\n",
        "for i in range(0, n):\n",
        "    ele = int(input())\n",
        "    l.append(ele) # adding the element\n",
        "      \n",
        "print(\"The weights of N students:\", l)\n",
        "\n",
        "#A list named Kg is declared which contains the values converted from lbs to Kilograms\n",
        "\n",
        "kg=[]\n",
        "\n",
        "for i in range(0, n):\n",
        "    ele =0.45359237 * i\n",
        "    kg.append(ele)\n",
        "\n",
        "print(\"The weights of N students converted to Kilograms from lbs:\", kg)"
      ],
      "metadata": {
        "colab": {
          "base_uri": "https://localhost:8080/"
        },
        "id": "UdG7XnmjlCQc",
        "outputId": "06f6f7e1-1b93-42d1-f2c4-8ab5287b3be9"
      },
      "execution_count": 122,
      "outputs": [
        {
          "output_type": "stream",
          "name": "stdout",
          "text": [
            "Enter number of weights : 5\n",
            "10\n",
            "12\n",
            "9\n",
            "5\n",
            "3\n",
            "The weights of N students: [10, 12, 9, 5, 3]\n",
            "The weights of N students converted to Kilograms from lbs: [0.0, 0.45359237, 0.90718474, 1.3607771100000001, 1.81436948]\n"
          ]
        }
      ]
    },
    {
      "cell_type": "code",
      "source": [],
      "metadata": {
        "id": "Wxiy44d8lYIV"
      },
      "execution_count": null,
      "outputs": []
    }
  ]
}